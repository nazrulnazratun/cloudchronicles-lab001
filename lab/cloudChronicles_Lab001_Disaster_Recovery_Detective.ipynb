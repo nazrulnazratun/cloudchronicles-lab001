{
 "cells": [
  {
   "cell_type": "markdown",
   "id": "0f1e0979",
   "metadata": {},
   "source": [
    "# 🧠 cloudChronicles Lab #001: Disaster Recovery Detective\n",
    "\n",
    "**Lab Type:** Idea  \n",
    "**Estimated Time:** 30–45 mins  \n",
    "**Skill Level:** Beginner"
   ]
  },
  {
   "cell_type": "code",
   "execution_count": null,
   "id": "a97f86ab",
   "metadata": {},
   "outputs": [],
   "source": [
    "# Let's begin by printing your name to personalize the notebook\n",
    "your_name = \"\"\n",
    "print(f\"Welcome to the lab, {your_name}!\")"
   ]
  },
  {
   "cell_type": "markdown",
   "id": "0f94d019",
   "metadata": {},
   "source": [
    "## 🔍 STAR Method Lab Prompt\n",
    "\n",
    "**Situation:**  \n",
    "[Here's a STAR-based disaster recovery plan for a Google Cloud regional outage in us-central1, leveraging Cloud SQL replicas, multi-region Cloud Storage, and Pub/Sub alerts for failover and recovery.

Situation
A regional outage has impacted Google Cloud's us-central1 region, causing downtime for databases, storage, and messaging services hosted there.

Task
Develop a disaster recovery plan to failover workloads to another region and restore operations efficiently using Google Cloud's native tools.

Action
1. Database Recovery: Cloud SQL Replicas
Pre-outage setup: Deploy read replicas in a different region (us-east1 or us-west1).

Failover process:

Promote the read replica to a primary instance in the backup region.

Update application configurations or Cloud DNS records to point to the new primary database.

Restore any missing data from Cloud SQL automated backups.

2. Object Storage Recovery: Multi-Region Cloud Storage
Pre-outage setup: Store critical assets like logs and backups in multi-region buckets (e.g., nam4 for North America).

Failover process:

Redirect application configurations to the multi-region Cloud Storage bucket.

Deploy standby workloads in an unaffected region (us-west1 or us-east1).

Utilize Cloud Storage Transfer Service to sync any new data.

3. Messaging and Alerting: Pub/Sub Alerts
Pre-outage setup: Implement cross-region Pub/Sub topics for event-driven processing.

Failover process:

Configure Cloud Functions or Cloud Run in another region to process Pub/Sub messages.

Notify teams via Cloud Monitoring alerts when the primary region goes down.

Apply IAM policies to ensure services can read messages from backup regions.]\n",
    "\n",
    "**Task:**  \n",
    "[Define what the user is expected to solve.]\n",
    "\n",
    "**Action:**  \n",
    "[Step-by-step instructions using GCP tools.]\n",
    "\n",
    "**Expected Result:**  \n",
    "[A defined deliverable such as a DR plan, diagram, MVP, etc.]"
   ]
  },
  {
   "cell_type": "markdown",
   "id": "397b221d",
   "metadata": {},
   "source": [
    "## ✍️ Your Assignment\n",
    "\n",
    "_Use this section to complete your deliverable:_\n",
    "\n",
    "```markdown\n",
    "(Example Format)\n",
    "\n",
    "- **Primary Region**: us-central1  \n",
    "- **Backup Location**: us-east1  \n",
    "- **Failover Trigger**: Load balancer health check + Pub/Sub alert  \n",
    "- **Redundancy Services**:  \n",
    "   - Cloud SQL with failover  \n",
    "   - Cloud Storage versioning  \n",
    "   - Cloud Functions for health monitoring  \n",
    "- **Backup Schedule**: Every 6 hours, daily export to multi-region bucket  \n",
    "```"
   ]
  }
 ],
 "metadata": {},
 "nbformat": 4,
 "nbformat_minor": 5
}
